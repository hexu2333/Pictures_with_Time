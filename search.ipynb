{
 "cells": [
  {
   "cell_type": "code",
   "execution_count": 30,
   "metadata": {},
   "outputs": [],
   "source": [
    "import pandas as pd\n",
    "import numpy as np\n",
    "import os\n",
    "import requests\n",
    "import json\n",
    "import bs4\n",
    "from IPython.display import display, Image"
   ]
  },
  {
   "cell_type": "code",
   "execution_count": 31,
   "metadata": {},
   "outputs": [],
   "source": [
    "def Scratch_Google_Pictures(name,time,number):\n",
    "    path = name + ' ' + time\n",
    "    seach_url = f\"https://www.google.com/search?site=&tbm=isch&source=hp&biw=1873&bih=990&q={path}\"\n",
    "    fac_response = requests.get(seach_url)\n",
    "    soup = bs4.BeautifulSoup(fac_response.text,\"html.parser\")\n",
    "    images = soup.find_all('img')\n",
    "    urls = [img['src'] for img in images]\n",
    "    if not os.path.exists(\"images\"):    \n",
    "        os.mkdir(\"images\")\n",
    "    if not os.path.exists(\"images/\" + path):\n",
    "        os.makedirs(\"images/\" + path)\n",
    "    urls = urls[1:]\n",
    "    for i, url in enumerate(urls):\n",
    "        if i < number:    \n",
    "            response = requests.get(url)    \n",
    "            with open(\"images/\" + path +\"/{}.jpg\".format(i+1),\"wb\") as f:        \n",
    "                f.write(response.content)\n",
    "    #show the picture in code:\n",
    "    for i in range(1,4):\n",
    "        print(display(Image(filename=\"images/\" + path +\"/\" + str(i) + \".jpg\")))"
   ]
  },
  {
   "cell_type": "code",
   "execution_count": 32,
   "metadata": {},
   "outputs": [
    {
     "data": {
      "image/jpeg": "[encoded data removed]",
      "text/plain": [
       "<IPython.core.display.Image object>"
      ]
     },
     "metadata": {},
     "output_type": "display_data"
    },
    {
     "name": "stdout",
     "output_type": "stream",
     "text": [
      "None\n"
     ]
    },
    {
     "data": {
      "image/jpeg": "[encoded data removed]",
      "text/plain": [
       "<IPython.core.display.Image object>"
      ]
     },
     "metadata": {},
     "output_type": "display_data"
    },
    {
     "name": "stdout",
     "output_type": "stream",
     "text": [
      "None\n"
     ]
    },
    {
     "data": {
      "image/jpeg": "[encoded data removed]",
      "text/plain": [
       "<IPython.core.display.Image object>"
      ]
     },
     "metadata": {},
     "output_type": "display_data"
    },
    {
     "name": "stdout",
     "output_type": "stream",
     "text": [
      "None\n"
     ]
    }
   ],
   "source": [
    "Scratch_Google_Pictures(\"mouse\",\"1990\",5)"
   ]
  }
 ],
 "metadata": {
  "kernelspec": {
   "display_name": "pytorch",
   "language": "python",
   "name": "python3"
  },
  "language_info": {
   "codemirror_mode": {
    "name": "ipython",
    "version": 3
   },
   "file_extension": ".py",
   "mimetype": "text/x-python",
   "name": "python",
   "nbconvert_exporter": "python",
   "pygments_lexer": "ipython3",
   "version": "3.9.17"
  },
  "orig_nbformat": 4
 },
 "nbformat": 4,
 "nbformat_minor": 2
}
